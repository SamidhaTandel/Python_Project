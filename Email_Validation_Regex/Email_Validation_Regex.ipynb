{
 "cells": [
  {
   "cell_type": "code",
   "execution_count": 1,
   "id": "bd5cbbb0",
   "metadata": {},
   "outputs": [],
   "source": [
    "import re"
   ]
  },
  {
   "cell_type": "code",
   "execution_count": 9,
   "id": "43455d7b",
   "metadata": {},
   "outputs": [
    {
     "name": "stdout",
     "output_type": "stream",
     "text": [
      " Enter your Email : samidha24tandelgmail.com\n",
      " Incorrect Email \n"
     ]
    }
   ],
   "source": [
    "#?(.,_) ? it gives one character at a time\n",
    "email_condition=\"^[a-z]+[\\._]?[a-z0-9]+[@]\\w+[.]\\w{2,3}$\"\n",
    "user_email=input(\" Enter your Email : \")\n",
    "if re.search(email_condition,user_email):\n",
    "    print(\" Correct Email \")\n",
    "else:\n",
    "    print(\" Incorrect Email \")\n"
   ]
  }
 ],
 "metadata": {
  "kernelspec": {
   "display_name": "Python 3 (ipykernel)",
   "language": "python",
   "name": "python3"
  },
  "language_info": {
   "codemirror_mode": {
    "name": "ipython",
    "version": 3
   },
   "file_extension": ".py",
   "mimetype": "text/x-python",
   "name": "python",
   "nbconvert_exporter": "python",
   "pygments_lexer": "ipython3",
   "version": "3.11.3"
  }
 },
 "nbformat": 4,
 "nbformat_minor": 5
}
