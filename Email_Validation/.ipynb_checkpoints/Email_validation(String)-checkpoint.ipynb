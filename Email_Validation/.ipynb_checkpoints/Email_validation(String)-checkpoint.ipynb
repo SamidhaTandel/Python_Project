{
 "cells": [
  {
   "cell_type": "code",
   "execution_count": null,
   "id": "7e43a178",
   "metadata": {},
   "outputs": [],
   "source": [
    "email=input(\" Enter your email \")#g@g.com .in\n",
    "k,j,d=0,0,0\n",
    "if len(email)>=6:\n",
    "    #checks if @ is present in email and also checks the count of @\n",
    "    if (\"@\"in email) and (email.count(\"@\")==1):\n",
    "        #checks and validate the position of \".\" it should 3 or 4 characters before\n",
    "        if(email[-4]==\".\") or (email[-3]==\".\"):\n",
    "            #created valid characters to select\n",
    "            valid_characters=set(\"abcdefghijklmnopqrstuvwxyz0123456789_@\")\n",
    "            #Check if characters are present in the set of valid characters\n",
    "            for i in email:\n",
    "                if char not in valid_characters:\n",
    "                    print(\"Wrong Email: Invalid characters\")\n",
    "                    break\n",
    "            else:#check if first index of email starts with alphabet\n",
    "                if email[0].isalpha():\n",
    "                    print(\"Correct email\")\n",
    "                else:\n",
    "                    print(\"Starts with invalid character\")\n",
    "        else:\n",
    "            print(\" Wrong Email : Invalid email \")\n",
    "    else:\n",
    "        print(\" Wrong Email @ cannot be repeated \")\n",
    "else:\n",
    "    print(\" Wrong Email less character  \")"
   ]
  }
 ],
 "metadata": {
  "kernelspec": {
   "display_name": "Python 3 (ipykernel)",
   "language": "python",
   "name": "python3"
  },
  "language_info": {
   "codemirror_mode": {
    "name": "ipython",
    "version": 3
   },
   "file_extension": ".py",
   "mimetype": "text/x-python",
   "name": "python",
   "nbconvert_exporter": "python",
   "pygments_lexer": "ipython3",
   "version": "3.11.3"
  }
 },
 "nbformat": 4,
 "nbformat_minor": 5
}
