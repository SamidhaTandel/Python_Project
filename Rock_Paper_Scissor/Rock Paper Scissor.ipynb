{
 "cells": [
  {
   "cell_type": "code",
   "execution_count": null,
   "id": "7ca2ffe9",
   "metadata": {},
   "outputs": [],
   "source": []
  },
  {
   "cell_type": "code",
   "execution_count": 40,
   "id": "c56162af",
   "metadata": {},
   "outputs": [],
   "source": [
    "import random\n",
    "\n",
    "def game():\n",
    "    user=input(\"'r' for rock,'p'for paper,'s'for scissor(Whats your choice User : )\")\n",
    "    computer=random.choice(['r','p','s'])\n",
    "    if user==computer:\n",
    "        return \"Tie\"\n",
    "    \n",
    "    def win(player,opponent):\n",
    "        if (player=='r' and opponent=='s') or(player=='s' and opponent=='p') or (player=='p' and opponent=='r'):\n",
    "            return True\n",
    "    \n",
    "    if win(user,computer):\n",
    "        return 'You Won!'\n",
    "    \n",
    "    return \"You Lost\"\n",
    "    \n"
   ]
  },
  {
   "cell_type": "code",
   "execution_count": 39,
   "id": "f9c935c3",
   "metadata": {},
   "outputs": [
    {
     "name": "stdout",
     "output_type": "stream",
     "text": [
      "'r' for rock,'p'for paper,'s'for scissor(Whats your choice User : )s\n"
     ]
    },
    {
     "data": {
      "text/plain": [
       "'Tie'"
      ]
     },
     "execution_count": 39,
     "metadata": {},
     "output_type": "execute_result"
    }
   ],
   "source": [
    "z=game()\n",
    "z"
   ]
  },
  {
   "cell_type": "code",
   "execution_count": null,
   "id": "325493c7",
   "metadata": {},
   "outputs": [],
   "source": []
  }
 ],
 "metadata": {
  "kernelspec": {
   "display_name": "Python 3 (ipykernel)",
   "language": "python",
   "name": "python3"
  },
  "language_info": {
   "codemirror_mode": {
    "name": "ipython",
    "version": 3
   },
   "file_extension": ".py",
   "mimetype": "text/x-python",
   "name": "python",
   "nbconvert_exporter": "python",
   "pygments_lexer": "ipython3",
   "version": "3.11.3"
  }
 },
 "nbformat": 4,
 "nbformat_minor": 5
}
